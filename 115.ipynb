{
  "nbformat": 4,
  "nbformat_minor": 0,
  "metadata": {
    "kernelspec": {
      "display_name": "Python 3",
      "language": "python",
      "name": "python3"
    },
    "language_info": {
      "codemirror_mode": {
        "name": "ipython",
        "version": 3
      },
      "file_extension": ".py",
      "mimetype": "text/x-python",
      "name": "python",
      "nbconvert_exporter": "python",
      "pygments_lexer": "ipython3",
      "version": "3.7.7"
    },
    "colab": {
      "name": "115.ipynb",
      "provenance": []
    }
  },
  "cells": [
    {
      "cell_type": "markdown",
      "metadata": {
        "id": "20hbLPxHpJry"
      },
      "source": [
        "# Module 1: Data Wrangling with Python\n",
        "## Sprint 1: Python Mastery\n",
        "## Part 5: OOP based Calculator\n"
      ]
    },
    {
      "cell_type": "markdown",
      "metadata": {
        "id": "6vxlCH2RpJr7"
      },
      "source": [
        "## About this Part\n",
        "\n",
        "Congrats!\n",
        "You completed almost all assignments and tasks of this Sprint.\n",
        "You did a great job.\n",
        "In this Part, you will need to prove all the skills that you learned.\n",
        "As the final assignment of this Sprint, you will have to create your own Python package.\n",
        "You will have to apply all what you have learned about OOP and \"Clean Code\" concepts.\n",
        "\n",
        "## Objectives for this Part\n",
        "\n",
        "- Practice writing clean OOP based Python code and testing it.\n",
        "- Practice creation your own Python package.\n",
        "- Understand and apply required software license for your package.\n",
        "- Practice dealing with Python environments.\n",
        "- Practice creating and working in a Docker container.\n"
      ]
    },
    {
      "cell_type": "markdown",
      "metadata": {
        "id": "TiKFGcQDpJr8"
      },
      "source": [
        "---"
      ]
    },
    {
      "cell_type": "markdown",
      "metadata": {
        "id": "6_T7MTWtpJr8"
      },
      "source": [
        "## The calculator\n",
        "\n",
        "You will need to create a Python module and later transform it into a package.\n",
        "This module will be a calculator.\n",
        "What you should do at first is initialize new Python package structure and create a new file that will be used as a module."
      ]
    },
    {
      "cell_type": "markdown",
      "metadata": {
        "id": "94Ey1ZHipJr8"
      },
      "source": [
        "## Writing tests and documentation\n",
        "\n",
        "You should also write tests that ensure that the basic functionality of the class is covered.\n",
        "Make sure that math operations returns expected results. Document your calculator class using docstrings.\n",
        "Add explanation of the package to README file.\n",
        "Try to be as verbose as possible: include instruction on how to install the package, how to use specific methods.  "
      ]
    },
    {
      "cell_type": "markdown",
      "metadata": {
        "id": "bPCqVnrkpJr9"
      },
      "source": [
        "---"
      ]
    },
    {
      "cell_type": "markdown",
      "metadata": {
        "id": "JHcQDVRspJr9"
      },
      "source": [
        "## Requirements\n",
        "\n",
        "The main package file should contain a class `Calculator` that should be able to perform these actions:  \n",
        "\n",
        "- Addition / Subtraction.\n",
        "- Multiplication / Division.\n",
        "- Take (n) root of number.\n",
        "- Reset memory (**Calculator must have its own memory, meaning it should manipulate its starting number `0` until it is reset.**).\n",
        "\n",
        "This means that for example `calculator` should perform actions with a value inside its memory (for this example value inside the calculator's memory is `0`): `calculator.add(2)` results in `2`."
      ]
    },
    {
      "cell_type": "markdown",
      "metadata": {
        "id": "1YHFK41RpJr9"
      },
      "source": [
        "Present your newly created Python package:\n",
        "\n",
        "* Make a short introduction to the repository of the package.\n",
        "* Install the package into the Google Colab's env using `pip`.\n",
        "* Showcase functionality of the created package.\n",
        "* If bonus challenge is completed - explain how the `Dockerfile` is structured and what is its functionality."
      ]
    },
    {
      "cell_type": "markdown",
      "metadata": {
        "id": "pC6LAB5YpJr9"
      },
      "source": [
        "## Evaluation criteria\n",
        "\n",
        "1. Correct Python Package structure is initialized.\n",
        "2. Calculator module is created.\n",
        "3. Calculator class performs required actions.\n",
        "4. Tests are written.\n",
        "5. Code is written with PEP8 standards in mind.\n",
        "6. Code is well-documented.\n",
        "7. Project has informative README file.\n",
        "8. Package is installable through `pip`."
      ]
    },
    {
      "cell_type": "markdown",
      "metadata": {
        "id": "NEaWHlbVpJr-"
      },
      "source": [
        "## Bonus challenge\n",
        "\n",
        "Add Dockerfile to the repository that is able to run your module.\n",
        "Python `3.8` environment is initialized and the package is installed when creating Docker container from the image."
      ]
    },
    {
      "cell_type": "markdown",
      "metadata": {
        "id": "SLaO3Tg2pJr-"
      },
      "source": [
        "## Sample correction questions\n",
        "\n",
        "During a correction, you may get asked questions that test your understanding of covered topics.\n",
        "\n",
        "- What is Object-Oriented Programming? Select and explain two examples where using OOP concepts can improve quality and usability of code.\n",
        "- What is \"Clean Code\"? Select four main key concepts and explain them using real world examples.\n",
        "- Why do we need to document code? How can you do it? What should be provided inside the documentation?\n",
        "- Explain containerization. Why would you want to use one? What are the main differences between virtualization and containerization?"
      ]
    },
    {
      "cell_type": "markdown",
      "metadata": {
        "id": "JpBX-9ZGpK3N"
      },
      "source": [
        "# Calculator\n",
        "How we could use it in notebook?\n",
        "How we could perform basic calculations?\n"
      ]
    },
    {
      "cell_type": "markdown",
      "metadata": {
        "id": "4QuimRjvpf_B"
      },
      "source": [
        "1. Get the Calculator from GitHub using command:"
      ]
    },
    {
      "cell_type": "code",
      "metadata": {
        "id": "MwiV5DWPpMv_",
        "outputId": "567cdfae-3fdd-49e2-cbb7-7b6a11853a6e",
        "colab": {
          "base_uri": "https://localhost:8080/"
        }
      },
      "source": [
        "pip install git+git://github.com/Gretifa/Calculator"
      ],
      "execution_count": 6,
      "outputs": [
        {
          "output_type": "stream",
          "text": [
            "Collecting git+git://github.com/Gretifa/Calculator\n",
            "  Cloning git://github.com/Gretifa/Calculator to /tmp/pip-req-build-_4traxr2\n",
            "  Running command git clone -q git://github.com/Gretifa/Calculator /tmp/pip-req-build-_4traxr2\n",
            "Building wheels for collected packages: calculator\n",
            "  Building wheel for calculator (setup.py) ... \u001b[?25l\u001b[?25hdone\n",
            "  Created wheel for calculator: filename=calculator-0.0.1-cp37-none-any.whl size=2746 sha256=a041a811d017f3c85eb37b9b4d1824ab2b629a6413f93006270bf4fd701ebce5\n",
            "  Stored in directory: /tmp/pip-ephem-wheel-cache-kzmlptfj/wheels/b3/bf/08/69badee6bbe0c719aa761ba23595a975f79c3b1a02b7d1e5b1\n",
            "Successfully built calculator\n",
            "Installing collected packages: calculator\n",
            "Successfully installed calculator-0.0.1\n"
          ],
          "name": "stdout"
        }
      ]
    },
    {
      "cell_type": "markdown",
      "metadata": {
        "id": "dkhHDgd6pmeW"
      },
      "source": [
        "2. Import the package from Calculator"
      ]
    },
    {
      "cell_type": "code",
      "metadata": {
        "id": "JuTZEtcYpUYE"
      },
      "source": [
        "from Calculator.calculator import Calculator"
      ],
      "execution_count": 7,
      "outputs": []
    },
    {
      "cell_type": "code",
      "metadata": {
        "id": "jNEz3MCkpu_K",
        "outputId": "68191d37-fe57-4e0d-897d-85cafd6e2ccd",
        "colab": {
          "base_uri": "https://localhost:8080/"
        }
      },
      "source": [
        "Calculator.add(2,5)"
      ],
      "execution_count": 8,
      "outputs": [
        {
          "output_type": "execute_result",
          "data": {
            "text/plain": [
              "7"
            ]
          },
          "metadata": {
            "tags": []
          },
          "execution_count": 8
        }
      ]
    },
    {
      "cell_type": "code",
      "metadata": {
        "id": "m_c3o_wEpxf5",
        "outputId": "05ec15a4-e2a5-4a2a-ebb2-f07c97a4b0d4",
        "colab": {
          "base_uri": "https://localhost:8080/"
        }
      },
      "source": [
        "Calculator.subtract(7,5)"
      ],
      "execution_count": 9,
      "outputs": [
        {
          "output_type": "execute_result",
          "data": {
            "text/plain": [
              "2"
            ]
          },
          "metadata": {
            "tags": []
          },
          "execution_count": 9
        }
      ]
    },
    {
      "cell_type": "code",
      "metadata": {
        "id": "69Zc-vCcp0iW",
        "outputId": "01f6bb2c-265a-44e8-bc0a-be91d2ff64fb",
        "colab": {
          "base_uri": "https://localhost:8080/"
        }
      },
      "source": [
        "Calculator.add(2)"
      ],
      "execution_count": 10,
      "outputs": [
        {
          "output_type": "execute_result",
          "data": {
            "text/plain": [
              "4"
            ]
          },
          "metadata": {
            "tags": []
          },
          "execution_count": 10
        }
      ]
    },
    {
      "cell_type": "code",
      "metadata": {
        "id": "7vei8FKDp3rm",
        "outputId": "62f093c3-500a-4d68-c3a2-60c9a3346873",
        "colab": {
          "base_uri": "https://localhost:8080/"
        }
      },
      "source": [
        "Calculator.reset()"
      ],
      "execution_count": 11,
      "outputs": [
        {
          "output_type": "execute_result",
          "data": {
            "text/plain": [
              "0"
            ]
          },
          "metadata": {
            "tags": []
          },
          "execution_count": 11
        }
      ]
    },
    {
      "cell_type": "code",
      "metadata": {
        "id": "fXvA5loQp6-h"
      },
      "source": [
        ""
      ],
      "execution_count": null,
      "outputs": []
    }
  ]
}